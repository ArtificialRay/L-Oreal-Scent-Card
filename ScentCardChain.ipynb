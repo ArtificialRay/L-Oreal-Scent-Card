{
 "cells": [
  {
   "attachments": {},
   "cell_type": "markdown",
   "metadata": {},
   "source": [
    "Hi there! \\\n",
    "In ScentCardChain.py, I generate a Block-chain functionality in my Scent Card app (please check ScentCard.rp, which sumbits together).\\\n",
    "Here is the details of ScentCardChain program:"
   ]
  },
  {
   "attachments": {},
   "cell_type": "markdown",
   "metadata": {},
   "source": [
    "hint: if you do want to know how this program run, jump to `Application` first"
   ]
  },
  {
   "attachments": {},
   "cell_type": "markdown",
   "metadata": {},
   "source": [
    "## Principles"
   ]
  },
  {
   "attachments": {},
   "cell_type": "markdown",
   "metadata": {},
   "source": [
    "Here I import three librarys: datetime (to get timestamp) , hashlib (to get hash code), PyMySQL(MySQL connection):"
   ]
  },
  {
   "cell_type": "code",
   "execution_count": null,
   "metadata": {},
   "outputs": [],
   "source": [
    "import datetime\n",
    "import hashlib\n",
    "import pymysql"
   ]
  },
  {
   "attachments": {},
   "cell_type": "markdown",
   "metadata": {},
   "source": [
    "Firstly,declare and initialize ScentCard class.\\\n",
    "This class store not only information of a block in blockchain but also information of scent card, including:\n",
    "1. Owner name\n",
    "2. Scent Card name\n",
    "3. Fragrance\n",
    "4. Top note\n",
    "5. Middle note\n",
    "6. Low note"
   ]
  },
  {
   "cell_type": "code",
   "execution_count": null,
   "metadata": {},
   "outputs": [],
   "source": [
    "class ScentCard:\n",
    "    \"\"\"Store information input of a scent card,\n",
    "    including Owner name, Scent Card name, Fragrance, Top note, Middle note, Low note\n",
    "    also the information of a block, including blockNo, timestamp, hash code, previous block's hash code,\n",
    "    nonce and reference of the next block\n",
    "    \"\"\"\n",
    "    # information of a block\n",
    "    blockNo = 0\n",
    "    next = None\n",
    "    Hash = None\n",
    "    data = None\n",
    "    nonce = 0\n",
    "    previous_hash = 0x0 # read in hexadecimal\n",
    "    timestamp = datetime.datetime.now() # current time that a block generated\n",
    "\n",
    "    def __init__(self,data=None):\n",
    "        self.data = data\n",
    "\n",
    "    # information of a scent card\n",
    "    def sc_input(self):\n",
    "        self.owner = input(\"Owner's name: \")\n",
    "        self.Name = input(\"your Scent card name: \")\n",
    "        self.Fragrance = input(\"your Scent card fragrance(weak/medium/strong): \")\n",
    "        self.Top_note = input(\"Scent Card Top note: \")\n",
    "        self.Middle_note = input(\"Scent Card Middle note: \")\n",
    "        self.Low_note = input(\"Scent Card Low note: \")\n",
    "        self.data = \"Owner: \" + self.owner + \"\\nFragrance: \" + self.Fragrance +\"\\nTop note: \" + self.Top_note + \"\\nMiddle note: \" + self.Middle_note + \"\\nLow note: \" + self.Low_note\n",
    "        return self\n",
    "    \n",
    "    # generate hash code, containing all messages of a scent card, nonce\n",
    "    def hash(self):\n",
    "        h = hashlib.sha256()\n",
    "        h.update(\n",
    "        str(self.nonce).encode('utf-8') +\n",
    "        str(self.data).encode('utf-8') +\n",
    "        str(self.previous_hash).encode('utf-8') +\n",
    "        str(self.timestamp).encode('utf-8') +\n",
    "        str(self.blockNo).encode('utf-8')\n",
    "        )\n",
    "        return h.hexdigest() \n",
    " \n",
    "    def __str__(self):\n",
    "        # when print a block, it will print like this:\n",
    "        output = (\"--------------\\n\"+\"Scent Card No : \" + str(self.blockNo) + \"\\nHash code: \" + str(self.nonce) +\n",
    "        \"\\n\" + str(self.data) + \"\\nBlock Hash: \" + str(self.hash()) +\n",
    "        \"\\nCreate time: \" + str(self.timestamp)+\"\\n--------------\")\n",
    "        # hash code acts as a password of your scent card, so it should be printed as first\n",
    "        return output\n"
   ]
  },
  {
   "attachments": {},
   "cell_type": "markdown",
   "metadata": {},
   "source": [
    "Database here acts as a distributed ledger of a miner.  PyMySQL library is applied to connect MySQL dbs.\n",
    "\n",
    "A class `ScentCard_dbs` records attributes and functions of generating distributed ledger "
   ]
  },
  {
   "cell_type": "code",
   "execution_count": null,
   "metadata": {},
   "outputs": [],
   "source": [
    "class ScentCard_dbs:\n",
    "    \"\"\"basic operation: including input/check your dbs info\"\"\"\n",
    "    def input_dbs_info(self):\n",
    "        #input information of your own database, including host, user,password, port\n",
    "        self.host = input(\"your MySQL database host(default=localhost): \")\n",
    "        self.user = input(\"your MySQL user's name: \")\n",
    "        self.password = input(\"your MySQL password: \")\n",
    "        self.port = input(\"your MySQL port(default = 3306): \")\n",
    "        # default value of port\n",
    "        if len(self.host) == 0:\n",
    "            self.host = \"localhost\"\n",
    "        if len(self.port) == 0:\n",
    "            self.port = \"3306\"\n",
    "\n",
    "        #check the information of your database if necessary\n",
    "        changemode = 0\n",
    "        while changemode == 0:\n",
    "            print(\"host: \"+self.host,\"user: \"+self.user,\"password: \"+self.password,\"port: \"+self.port,sep=\"\\n\")\n",
    "            changemode = int(input(\"are these information correct?(1:Yes,0:No) \"))\n",
    "            if changemode == 1:\n",
    "                break\n",
    "            msg_changes = input(\"what information you'd like to change(host,user,password,port)? \" +\n",
    "                                \"use \\\",\\\" to seperate your input if more than 2 information you want to change: \")\n",
    "            msg_changes_list = msg_changes.split(\",\")\n",
    "            for each in msg_changes_list:\n",
    "                if each == \"host\":\n",
    "                    self.host = input(\"your MySQL database host(default=localhost): \")\n",
    "                if each == \"user\":\n",
    "                    self.user = input(\"your MySQL user's name: \")\n",
    "                if each == \"password\":\n",
    "                    self.password = input(\"your MySQL password: \")\n",
    "                if each == \"port\":\n",
    "                    self.port = input(\"your MySQL port(default = 3306): \")\n",
    "        # when all information of database is recorded and correct return true\n",
    "        return True\n",
    "    \"\"\"transactions of databases: including create dbs, table, add(insert), select operation\n",
    "    (block in blockchain cannot update of delete)\n",
    "    the use of each transaction will connect the database and close it as the transaction ends.\n",
    "    do check the information of your own database when using the following method\"\"\"\n",
    "\n",
    "    def create_dbs(self)->bool:\n",
    "        # create or recreate a database: ScentCard, return true if database is create\n",
    "        db = pymysql.connect(host=self.host,\n",
    "                             user=self.user,\n",
    "                             password=self.password,\n",
    "                             port=int(self.port))\n",
    "        cursor = db.cursor()\n",
    "        try:\n",
    "            cursor.execute(\"CREATE DATABASE ScentCard\")\n",
    "            print(\"database ScentCard has created!!\")\n",
    "            return True\n",
    "        except pymysql.ProgrammingError as pe:\n",
    "            print(\"error occurs when creating database: \",pe)\n",
    "        finally:\n",
    "            db.close()\n",
    "\n",
    "    def create_table(self)->bool:\n",
    "        #create or recreate table: ScentCardChain\n",
    "        db = pymysql.connect(host=self.host,\n",
    "                             user=self.user,\n",
    "                             password=self.password,\n",
    "                             port=int(self.port))\n",
    "        cursor = db.cursor()\n",
    "        #sql code for CREATE operation\n",
    "        cursor.execute(\"USE scentcard;\") #every time we should verify what database is going to use\n",
    "        sql = \"\"\"CREATE TABLE IF NOT EXISTS ScentCardChain(\n",
    "            ScentCardNo INT PRIMARY KEY,\n",
    "            Owner VARCHAR(50) NOT NULL,\n",
    "            Name VARCHAR(50),\n",
    "            Fragrance VARCHAR(30),\n",
    "            Top_note VARCHAR(30),  \n",
    "            Middle_note VARCHAR(30), \n",
    "            Low_note VARCHAR(30), \n",
    "            Hashcode VARCHAR(50),\n",
    "            Create_time VARCHAR(100)\n",
    "            );\"\"\"\n",
    "        try:\n",
    "            cursor.execute(sql)\n",
    "            print(\"table ScentCardChain has created!!\")\n",
    "            return True\n",
    "        except pymysql.ProgrammingError as pe:\n",
    "            print(\"error occurs when creating table: \",pe)\n",
    "        finally:\n",
    "            db.close()\n",
    "    \n",
    "    def add_to_table(self,scentCard:ScentCard)->bool:\n",
    "        #add information of blockChain to table:\n",
    "        db = pymysql.connect(host=self.host,\n",
    "                             user=self.user,\n",
    "                             password=self.password,\n",
    "                             port=int(self.port))\n",
    "        cursor = db.cursor()\n",
    "        cursor.execute(\"USE scentcard;\") #every time we should verify what database is going to use\n",
    "        #sql code for INSERT operation\n",
    "        sql = \"\"\"INSERT INTO ScentCardChain VALUES\n",
    "        (%s,'%s','%s','%s','%s','%s','%s','%s','%s');\"\"\" % (scentCard.blockNo,scentCard.owner,scentCard.Name,\n",
    "                                                        scentCard.Fragrance,scentCard.Top_note,scentCard.Middle_note,scentCard.Low_note,\n",
    "                                                        str(scentCard.nonce),str(scentCard.timestamp))\n",
    "        try:\n",
    "            #transaction:INSERT\n",
    "            cursor.execute(sql)\n",
    "            db.commit()\n",
    "        except pymysql.ProgrammingError as pe:\n",
    "            db.rollback()\n",
    "            print(\"error occurs when add something to table: \",pe)\n",
    "        finally:\n",
    "            db.close()\n",
    "\n",
    "    def select_sc(self,mode = None):\n",
    "        #user can check information of his scent card by input the hash code.\n",
    "        db = pymysql.connect(host=self.host,\n",
    "                             user=self.user,\n",
    "                             password=self.password,\n",
    "                             port=int(self.port))\n",
    "        cursor = db.cursor()\n",
    "        cursor.execute(\"USE scentcard;\") #every time we should verify what database is going to use\n",
    "        #sql code for SELECT operation\n",
    "        if mode == None:\n",
    "            code = input(\"input your hash code of scent card: \")\n",
    "            sql = \"\"\"SELECT * FROM ScentCardChain WHERE Hashcode = %s;\"\"\" %(code) # return exactly one customer's scent card\n",
    "        elif mode == \"*\":\n",
    "            sql = \"\"\"SELECT * FROM ScentCardChain\"\"\" # return whole ScentCardChain\n",
    "        try:\n",
    "            #transaction:SELECT\n",
    "            cursor.execute(sql)\n",
    "            # get the result of SELECT operation:\n",
    "            results = cursor.fetchall()\n",
    "            for row in results:\n",
    "                blockno = row[0]\n",
    "                owner = row[1]\n",
    "                name = row[2]\n",
    "                fragrance = row[3]\n",
    "                top_note = row[4]\n",
    "                middle_note = row[5]\n",
    "                low_note = row[6]\n",
    "                hashcode = row[7]\n",
    "                create_time = row[8]\n",
    "                print (\"ScentCardno: %s\\nHash code: %s\\nOwner: %s\\nName: %s\\nFragrance: %s\\nTop note: %s\\nMiddle note: %s\\nLow note: %s\\nCreate time: %s\"\n",
    "                       % (blockno,hashcode,owner,name,fragrance,top_note,middle_note,low_note,create_time))\n",
    "            db.commit()\n",
    "        except pymysql.ProgrammingError as pe:\n",
    "            db.rollback()\n",
    "            print(\"error occurs when add something to table: \",pe)\n",
    "        finally:\n",
    "            db.close()"
   ]
  },
  {
   "attachments": {},
   "cell_type": "markdown",
   "metadata": {},
   "source": [
    "A block in blockchain can neither update or delete, so in MySQL operation, only INSERT and SELECT operations supported（or said: append-only database）"
   ]
  },
  {
   "attachments": {},
   "cell_type": "markdown",
   "metadata": {},
   "source": [
    "In the real cases, all miners' database will use class `ScentCard_dbs` to add block in table ScentCardChain. \n",
    "According to the rules of block chain, one miner can make CREATE TABLE and SELECT operation. **However, an successful INSERT operation will broadcast to all databases**\n",
    "\n",
    "`select_sc(self,mode = None)` can be authorized to customers with mode = None, that is, find scent card of specified user"
   ]
  },
  {
   "attachments": {},
   "cell_type": "markdown",
   "metadata": {},
   "source": [
    "Next, declare a class `ScentCardchain` to create Scent card block chain:"
   ]
  },
  {
   "cell_type": "code",
   "execution_count": null,
   "metadata": {},
   "outputs": [],
   "source": [
    "class ScentCardchain:\n",
    "    #set the difference that create a block, here the value \"diff\" = 20\n",
    "    diff = 20\n",
    "    maxNonce = 2**32\n",
    "    target = 2 ** (256-diff)\n",
    " \n",
    "    block = ScentCard(\"Genesis\") #original block\n",
    "    dummy = head = block\n",
    " \n",
    "    def add_sc_db(self,db_info=None):\n",
    "        self.db = db_info # db:attribute to record database information\n",
    "           \n",
    "    \n",
    "    def add(self, block:ScentCard):\n",
    "        #add a block in form of Linked list, where the number of block increase simutaneously\n",
    "        block.previous_hash = self.block.hash()\n",
    "        block.blockNo = self.block.blockNo + 1\n",
    "\n",
    "        #create single linked list\n",
    "        self.block.next = block\n",
    "        self.block = self.block.next \n",
    "\n",
    "        #add a scent card to table:\n",
    "        if self.db != None:\n",
    "            self.db.add_to_table(block)\n",
    "\n",
    "    def find_in_table(self):\n",
    "        # find a specific scent card from database through find method\n",
    "        self.db.select_sc()\n",
    "    \n",
    "    #Block mining: to find a proper nounce, so that to find a proper hash value \n",
    "    # only the valid hash value can be added\n",
    "    def mine(self, block:ScentCard,db=None):\n",
    "        self.add_sc_db(db)\n",
    "        for n in range(self.maxNonce):\n",
    "            if int(block.hash(), 16) <= self.target: # convert the hash value from hexadecimal to decimal first\n",
    "                self.add(block)\n",
    "                print(block)\n",
    "                break\n",
    "            else:\n",
    "                block.nonce += 1 "
   ]
  },
  {
   "attachments": {},
   "cell_type": "markdown",
   "metadata": {},
   "source": [
    "in `mine()` function, target are set to enhance the cost of adding a block: only if a valid hash if found that a block will be added. \n",
    "\n",
    "In the real case, a large number of miners will run `mine()` simultaneously, but only the first block who has the valid hash can be added. \"Diff\" and \"maxnounce\" varies in different conditions"
   ]
  },
  {
   "attachments": {},
   "cell_type": "markdown",
   "metadata": {},
   "source": [
    "After initializing all classes, we still need specific function for Scent Card input:\\\n",
    "1. **create_sc()**: create a block for scent card and add to blockchain\n",
    "2. **get_sc_chain()**: return blockchain of scent card\n",
    "3. **create_sc_table()**: return your MySQL database's interface"
   ]
  },
  {
   "cell_type": "code",
   "execution_count": null,
   "metadata": {},
   "outputs": [],
   "source": [
    "def create_sc(n:int,db:ScentCard_dbs = None)->ScentCardchain:\n",
    "    \"\"\"create a block for scent card and add to blockchain\"\"\"\n",
    "    scentcardchain = ScentCardchain()\n",
    "    for i in range(n):\n",
    "        sc = ScentCard().sc_input()\n",
    "        print(\"Generating Scent card \"+ str(i+1) + \" please wait...\")\n",
    "        scentcardchain.mine(sc,db)\n",
    "    return scentcardchain\n",
    "\n",
    "def get_sc_chain(scentcardchain:ScentCardchain):\n",
    "    \"\"\"return blockchain of scent card, including the original block\"\"\"\n",
    "    while scentcardchain.head != None:\n",
    "        print(scentcardchain.head) \n",
    "        scentcardchain.head = scentcardchain.head.next\n",
    "\n",
    "def create_sc_table():\n",
    "    db_info = ScentCard_dbs()\n",
    "    has_input = db_info.input_dbs_info()\n",
    "    if has_input == 1:\n",
    "        has_db = db_info.create_dbs()\n",
    "        if has_db == 1:\n",
    "            has_table = db_info.create_table()\n",
    "            if has_table == 1:\n",
    "                db = db_info # db:attribute to record database information\n",
    "                return db"
   ]
  },
  {
   "attachments": {},
   "cell_type": "markdown",
   "metadata": {},
   "source": [
    "## Applications"
   ]
  },
  {
   "attachments": {},
   "cell_type": "markdown",
   "metadata": {},
   "source": [
    "In this program, users can input his/her scent card information, which will then be added to a blockChain. \\\n",
    "User can check the generated hash code after input his/her scent card information. \\\n",
    "Also, checking the whole blockChain (including the original block) is allowed."
   ]
  },
  {
   "cell_type": "code",
   "execution_count": null,
   "metadata": {},
   "outputs": [],
   "source": [
    "# create 3 scent card\n",
    "sc_num = 3\n",
    "sc_chain1 = create_sc(sc_num)\n",
    "# check the block chain that was just generated\n",
    "get_sc_chain(sc_chain1)"
   ]
  },
  {
   "attachments": {},
   "cell_type": "markdown",
   "metadata": {},
   "source": [
    "Combine MySQL connection:"
   ]
  },
  {
   "cell_type": "code",
   "execution_count": null,
   "metadata": {},
   "outputs": [],
   "source": [
    "sc_num = 3\n",
    "#add one's scent card to MySQL:\n",
    "db = create_sc_table()\n",
    "sc_chain2=create_sc(sc_num,db)\n",
    "sc_chain2.find_in_table()\n",
    "#get_sc_chain(sc_chain1)"
   ]
  },
  {
   "attachments": {},
   "cell_type": "markdown",
   "metadata": {},
   "source": [
    "Here's the end of this document, thanks for your watching!!"
   ]
  }
 ],
 "metadata": {
  "kernelspec": {
   "display_name": "base",
   "language": "python",
   "name": "python3"
  },
  "language_info": {
   "codemirror_mode": {
    "name": "ipython",
    "version": 3
   },
   "file_extension": ".py",
   "mimetype": "text/x-python",
   "name": "python",
   "nbconvert_exporter": "python",
   "pygments_lexer": "ipython3",
   "version": "3.9.12"
  },
  "orig_nbformat": 4
 },
 "nbformat": 4,
 "nbformat_minor": 2
}
